{
 "cells": [
  {
   "cell_type": "markdown",
   "id": "0a6c7a11-f675-4198-8672-a3908bed8808",
   "metadata": {},
   "source": [
    "# <b>DSA PROBLEMS RELATED TO GRAPH USING PROMPT ENGINEERING</b>"
   ]
  },
  {
   "cell_type": "markdown",
   "id": "8a846098-6dc8-42d4-bff2-49ba26eea83b",
   "metadata": {},
   "source": [
    "# Largest Forest\n",
    "<b>Recursion\n",
    "Captain Cooper is stuck in a jungle and he needs to transmit the information of largest jungle to the murphy, SO that he can be rescued. Imagine the field is a 2D plane. Each cell is either water 'W' or a tree 'T'. A forest is a collection of connected trees. Two trees are connected if they share a side i.e. if they are adjacent to each other. Your task is given the information about the field,print the size of the largest forest. Size of a forest is the number of trees in it.See the sample case for clarity.\n",
    "This is the description.</b>\n",
    "\n",
    "Input Description:\n",
    "Input Format:\n",
    "First line contains the size of the matrix N.\n",
    "The next N lines contain N characters each, either 'W' or 'T'.\n",
    "\n",
    "Constraints:\n",
    "1<=N<=1000\n",
    "\n",
    "Output Description:\n",
    "Print the size of the largest forest."
   ]
  },
  {
   "cell_type": "code",
   "execution_count": 5,
   "id": "609a8977-e040-453e-a16c-4204a16ae88c",
   "metadata": {},
   "outputs": [
    {
     "name": "stdin",
     "output_type": "stream",
     "text": [
      " 5\n",
      " TTTWW \n",
      " TWWTT\n",
      "  TWWTT \n",
      " TWTTT \n",
      " WWTTT\n"
     ]
    },
    {
     "name": "stdout",
     "output_type": "stream",
     "text": [
      "Largest Forest Size: 10\n"
     ]
    }
   ],
   "source": [
    "def dfs(matrix, visited, x, y, n):\n",
    "    # Base conditions to stop the recursion\n",
    "    if x < 0 or y < 0 or x >= n or y >= n or visited[x][y] or matrix[x][y] == 'W':\n",
    "        return 0\n",
    "    \n",
    "    # Mark the current cell as visited\n",
    "    visited[x][y] = True\n",
    "    \n",
    "    # Initialize the size of the current forest\n",
    "    size = 1\n",
    "    \n",
    "    # Explore the four possible directions (up, down, left, right)\n",
    "    size += dfs(matrix, visited, x+1, y, n)  # Down\n",
    "    size += dfs(matrix, visited, x-1, y, n)  # Up\n",
    "    size += dfs(matrix, visited, x, y+1, n)  # Right\n",
    "    size += dfs(matrix, visited, x, y-1, n)  # Left\n",
    "    \n",
    "    return size\n",
    "\n",
    "def solve(n):\n",
    "    # Input the matrix\n",
    "    matrix = [input().strip() for _ in range(n)]\n",
    "    \n",
    "    # Create a visited matrix to keep track of the visited cells\n",
    "    visited = [[False for _ in range(n)] for _ in range(n)]\n",
    "    \n",
    "    # Variable to store the size of the largest forest\n",
    "    largest_forest_size = 0\n",
    "    \n",
    "    # Traverse each cell in the matrix\n",
    "    for i in range(n):\n",
    "        for j in range(n):\n",
    "            if matrix[i][j] == 'T' and not visited[i][j]:\n",
    "                # If the cell is a tree and not visited, explore the forest\n",
    "                forest_size = dfs(matrix, visited, i, j, n)\n",
    "                largest_forest_size = max(largest_forest_size, forest_size)\n",
    "    \n",
    "    # Print the size of the largest forest\n",
    "    print(\"Largest Forest Size:\",largest_forest_size)\n",
    "\n",
    "# Example usage:\n",
    "n = int(input())\n",
    "solve(n)\n"
   ]
  },
  {
   "cell_type": "markdown",
   "id": "fde41437-ec65-48ab-9f25-a53123745377",
   "metadata": {},
   "source": [
    "# Number of Armies\n",
    "<b>Given an m*n 2D binary grid that represents a map of 1's(soldiers) and 0's(enemies),print the number of armies. An army is represented by soldiers surrounded by enemies and is formed by connecting adjacent soldiers horizontally or vertically. You may assume all four edges of the grid are all surrounded by enemies.\n",
    "This is the description.</b>\n",
    "\n",
    "Input Description:\n",
    "Input format:\n",
    "First-line contains N and M row and column of matrix respectively. Following N lines contain M space-separated integers.\n",
    "Constraints\n",
    "1<=N<=300\n",
    "1<=M<=300\n",
    "0<=arr[i][j]<=1\n",
    "\n",
    "Output Description:\n",
    "Print the count of armies"
   ]
  },
  {
   "cell_type": "code",
   "execution_count": 7,
   "id": "312fe3be-2e15-48bf-a5e0-c1a231692ed8",
   "metadata": {},
   "outputs": [
    {
     "name": "stdin",
     "output_type": "stream",
     "text": [
      " 4 5\n",
      " 1 1 1 1 0\n",
      " 1 1 0 1 0\n",
      " 1 1 0 0 0\n",
      " 0 0 0 0 0\n"
     ]
    },
    {
     "name": "stdout",
     "output_type": "stream",
     "text": [
      "No. of Armies: 1\n"
     ]
    }
   ],
   "source": [
    "def dfs(grid, visited, x, y, n, m):\n",
    "    # Base conditions to stop the recursion\n",
    "    if x < 0 or y < 0 or x >= n or y >= m or visited[x][y] or grid[x][y] == 0:\n",
    "        return\n",
    "    \n",
    "    # Mark the current cell as visited\n",
    "    visited[x][y] = True\n",
    "    \n",
    "    # Explore the four possible directions (up, down, left, right)\n",
    "    dfs(grid, visited, x+1, y, n, m)  # Down\n",
    "    dfs(grid, visited, x-1, y, n, m)  # Up\n",
    "    dfs(grid, visited, x, y+1, n, m)  # Right\n",
    "    dfs(grid, visited, x, y-1, n, m)  # Left\n",
    "\n",
    "def solve(n, m):\n",
    "    # Input the grid\n",
    "    grid = []\n",
    "    for _ in range(n):\n",
    "        grid.append(list(map(int, input().split())))\n",
    "    \n",
    "    # Create a visited matrix to keep track of visited cells\n",
    "    visited = [[False for _ in range(m)] for _ in range(n)]\n",
    "    \n",
    "    # Variable to count the number of armies\n",
    "    army_count = 0\n",
    "    \n",
    "    # Traverse each cell in the grid\n",
    "    for i in range(n):\n",
    "        for j in range(m):\n",
    "            if grid[i][j] == 1 and not visited[i][j]:\n",
    "                # If the cell is a soldier and not visited, it's a new army\n",
    "                dfs(grid, visited, i, j, n, m)\n",
    "                army_count += 1\n",
    "    \n",
    "    # Print the count of armies\n",
    "    print(\"No. of Armies:\",army_count)\n",
    "\n",
    "# Example usage:\n",
    "n, m = map(int, input().split())\n",
    "solve(n, m)\n"
   ]
  },
  {
   "cell_type": "markdown",
   "id": "ffcc8ddb-4a74-437f-bbb6-1da8bb62762e",
   "metadata": {},
   "source": [
    "# Delivery of Tea\n",
    "<b>There are N societies located in a city, which are connected with N-1 roads,. Each road takes a 1 minute of time to travel. Mahendra Modi, a tea shop owner, wants to start a new tea delivery shop in a city, such that maximum time it would take to delivery to a potential customer in amy part of city is minimum. Because as time passes, tea becomes cold and customer would be unsatisfied. Help Modi to find minimum amounts of time, choosing a society for his tea shop.\n",
    "This is the description.</b>\n",
    "\n",
    "Input Description:\n",
    "Input format:\n",
    "First line contains T, no of test cases. First line of each test case contains N, total of societies in a city. Next N-1^A lines of each test case contains U and V, road connecting U society and V society\n",
    "Constraints:\n",
    "1<=T<=10\n",
    "1<=N<=10^5\n",
    "0<=U,V<N\n",
    "\n",
    "Output Description:\n",
    "For each test case print minimum number of minutes(time),which can be achieved after choosing society optimally for tea shop."
   ]
  },
  {
   "cell_type": "code",
   "execution_count": 9,
   "id": "e17fcfc8-de59-46b6-87a0-223eb593a235",
   "metadata": {},
   "outputs": [
    {
     "name": "stdin",
     "output_type": "stream",
     "text": [
      " 3\n",
      " 2\n",
      " 1 0\n",
      " 5\n",
      " 3 2\n",
      " 2 1\n",
      " 0 2\n",
      " 2 4\n",
      " 9\n",
      " 3 1\n",
      " 6 5\n",
      " 3 4\n",
      " 0 3\n",
      " 8 1\n",
      " 1 7\n",
      " 1 6\n",
      " 2 3\n"
     ]
    },
    {
     "name": "stdout",
     "output_type": "stream",
     "text": [
      "Output\n",
      "1\n",
      "1\n",
      "2\n"
     ]
    }
   ],
   "source": [
    "from collections import deque\n",
    "\n",
    "def bfs(farthest_node, n, adj):\n",
    "    dist = [-1] * n\n",
    "    dist[farthest_node] = 0\n",
    "    q = deque([farthest_node])\n",
    "    \n",
    "    while q:\n",
    "        node = q.popleft()\n",
    "        for neighbor in adj[node]:\n",
    "            if dist[neighbor] == -1:\n",
    "                dist[neighbor] = dist[node] + 1\n",
    "                q.append(neighbor)\n",
    "    \n",
    "    max_distance = max(dist)\n",
    "    farthest_node = dist.index(max_distance)\n",
    "    return farthest_node, max_distance\n",
    "\n",
    "def solve():\n",
    "    t = int(input())\n",
    "    results = []\n",
    "    \n",
    "    for _ in range(t):\n",
    "        n = int(input())\n",
    "        adj = [[] for _ in range(n)]\n",
    "        \n",
    "        for _ in range(n - 1):\n",
    "            u, v = map(int, input().split())\n",
    "            adj[u].append(v)\n",
    "            adj[v].append(u)\n",
    "        \n",
    "        # Step 1: Find the farthest node from an arbitrary node (let's say node 0)\n",
    "        farthest_node, _ = bfs(0, n, adj)\n",
    "        \n",
    "        # Step 2: Find the farthest node from the previously found farthest node to get the diameter\n",
    "        opposite_node, diameter = bfs(farthest_node, n, adj)\n",
    "        \n",
    "        # Step 3: The minimum max delivery time\n",
    "        min_time = (diameter + 1) // 2\n",
    "        results.append(min_time)\n",
    "    print(\"Output\")\n",
    "    # Print all results for all test cases\n",
    "    for result in results:\n",
    "        print(result)\n",
    "\n",
    "# Example usage:\n",
    "solve()\n"
   ]
  },
  {
   "cell_type": "code",
   "execution_count": null,
   "id": "23fdda02-42af-4fdb-92a6-843181f036a4",
   "metadata": {},
   "outputs": [],
   "source": []
  }
 ],
 "metadata": {
  "kernelspec": {
   "display_name": "Python 3 (ipykernel)",
   "language": "python",
   "name": "python3"
  },
  "language_info": {
   "codemirror_mode": {
    "name": "ipython",
    "version": 3
   },
   "file_extension": ".py",
   "mimetype": "text/x-python",
   "name": "python",
   "nbconvert_exporter": "python",
   "pygments_lexer": "ipython3",
   "version": "3.11.5"
  }
 },
 "nbformat": 4,
 "nbformat_minor": 5
}
